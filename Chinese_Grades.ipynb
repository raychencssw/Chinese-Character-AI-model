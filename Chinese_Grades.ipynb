{
 "cells": [
  {
   "cell_type": "code",
   "execution_count": 1,
   "metadata": {},
   "outputs": [],
   "source": [
    "import numpy as np\n",
    "import pandas as pd\n",
    "import os\n",
    "import matplotlib.pyplot as plt\n",
    "%matplotlib inline\n",
    "os.environ[\"CUDA_VISIBLE_DEVICES\"] = \"0\""
   ]
  },
  {
   "cell_type": "code",
   "execution_count": 2,
   "metadata": {
    "colab": {
     "base_uri": "https://localhost:8080/",
     "height": 34
    },
    "colab_type": "code",
    "executionInfo": {
     "elapsed": 2507,
     "status": "ok",
     "timestamp": 1563005360776,
     "user": {
      "displayName": "kinna kinna",
      "photoUrl": "",
      "userId": "09336290170720198249"
     },
     "user_tz": -480
    },
    "id": "vjFmupouR8XP",
    "outputId": "144c892d-e51f-4bc0-fdaf-2048146749ff"
   },
   "outputs": [],
   "source": [
    "import cv2\n",
    "from tensorflow import keras\n",
    "from tensorflow.keras.preprocessing.image import ImageDataGenerator\n",
    "from tensorflow.keras.models import Model\n",
    "from tensorflow.keras.layers import (Dense, Dropout, Activation,\n",
    "                                     Flatten, GlobalAveragePooling2D)\n",
    "from tensorflow.keras.models import Sequential, Model, load_model\n",
    "import tensorflow as tf\n",
    "config = tf.compat.v1.ConfigProto(gpu_options=tf.compat.v1.GPUOptions(allow_growth=True))\n",
    "sess = tf.compat.v1.Session(config=config)"
   ]
  },
  {
   "cell_type": "markdown",
   "metadata": {
    "colab_type": "text",
    "id": "kxBu1rarjRU0"
   },
   "source": [
    "##  資料讀入及前處理"
   ]
  },
  {
   "cell_type": "code",
   "execution_count": 3,
   "metadata": {},
   "outputs": [],
   "source": [
    "train_path = \"D:/score_0613/\"\n",
    "\n",
    "x_data_train = []\n",
    "y_data_train = []\n",
    "for roots, dirs, files in os.walk(train_path):\n",
    "    for each in files:\n",
    "        if each.find('checkpoint') == -1:\n",
    "            x_data_train.append(os.path.join(roots.split(\"/\")[-1], each))\n",
    "            y_data_train.append(roots.split(\"/\")[-1])"
   ]
  },
  {
   "cell_type": "code",
   "execution_count": 4,
   "metadata": {},
   "outputs": [],
   "source": [
    "data_train = pd.DataFrame({})\n",
    "data_train['img_path'] = x_data_train\n",
    "data_train['label'] = y_data_train"
   ]
  },
  {
   "cell_type": "code",
   "execution_count": 5,
   "metadata": {
    "scrolled": true
   },
   "outputs": [
    {
     "name": "stdout",
     "output_type": "stream",
     "text": [
      "32608 32608\n"
     ]
    }
   ],
   "source": [
    "print(len(x_data_train),len(y_data_train))"
   ]
  },
  {
   "cell_type": "markdown",
   "metadata": {},
   "source": [
    "# 讀入測試資料"
   ]
  },
  {
   "cell_type": "code",
   "execution_count": 6,
   "metadata": {},
   "outputs": [],
   "source": [
    "# test_path = \"c:/word/\" #讀入測試資料\n",
    "\n",
    "# x_data_test = []\n",
    "# y_data_test = []\n",
    "# for roots, dirs, files in os.walk(test_path):\n",
    "#     for each in files:\n",
    "#         if each.find('checkpoint') == -1:\n",
    "#             x_data_test.append(os.path.join(roots.split(\"/\")[-1], each))\n",
    "#             y_data_test.append(roots.split(\"/\")[-1])"
   ]
  },
  {
   "cell_type": "code",
   "execution_count": 7,
   "metadata": {},
   "outputs": [],
   "source": [
    "# data_test = pd.DataFrame({})\n",
    "# data_test['img_path'] = x_data_test\n",
    "# data_test['label'] = y_data_test\n",
    "# data_test['label'] = data_test['img_path'].str.replace('.png', '')"
   ]
  },
  {
   "cell_type": "code",
   "execution_count": 8,
   "metadata": {},
   "outputs": [],
   "source": [
    "# print(len(x_data_test),len(y_data_test))"
   ]
  },
  {
   "cell_type": "code",
   "execution_count": 9,
   "metadata": {
    "scrolled": true
   },
   "outputs": [],
   "source": [
    "#Label導入\n",
    "class_map = pd.read_csv('d:/python/class_map_0611.csv', index_col=0) \n",
    "class_map = class_map.to_dict()['class']"
   ]
  },
  {
   "cell_type": "code",
   "execution_count": 10,
   "metadata": {},
   "outputs": [
    {
     "data": {
      "text/plain": [
       "{1: 1, 2: 2, 3: 3, 4: 4, 5: 5, 6: 6, 7: 7, 8: 8}"
      ]
     },
     "execution_count": 10,
     "metadata": {},
     "output_type": "execute_result"
    }
   ],
   "source": [
    "class_map"
   ]
  },
  {
   "cell_type": "code",
   "execution_count": 11,
   "metadata": {},
   "outputs": [],
   "source": [
    "# data=data_train.copy()\n",
    "# ax = data.groupby('label').count().plot(kind='bar', figsize=(10, 5), fontsize=20, legend=False)\n",
    "# grouped_values = data.groupby('label').count()['img_path'].values\n",
    "# for idx, value in enumerate(grouped_values):\n",
    "#     ax.text(idx, value-value//8, value, color=\"black\", ha=\"center\", fontsize=25)\n",
    "# ax.set_title(\"TrainData\", fontsize=30)\n",
    "# ax.set_xlabel(\"\", fontsize=14)\n",
    "# ax.set_ylabel(\"\", fontsize=14)"
   ]
  },
  {
   "cell_type": "code",
   "execution_count": 12,
   "metadata": {},
   "outputs": [],
   "source": [
    "from sklearn.model_selection import train_test_split\n",
    "\n",
    "train_list, test_list = train_test_split(data_train,\n",
    "                                         test_size=0.1,\n",
    "                                         random_state=35,\n",
    "                                         stratify=data_train['label'].values)"
   ]
  },
  {
   "cell_type": "code",
   "execution_count": 13,
   "metadata": {},
   "outputs": [
    {
     "data": {
      "text/plain": [
       "8"
      ]
     },
     "execution_count": 13,
     "metadata": {},
     "output_type": "execute_result"
    }
   ],
   "source": [
    "img_size = 112\n",
    "num_class = len(data_train['label'].unique())\n",
    "num_class"
   ]
  },
  {
   "cell_type": "markdown",
   "metadata": {
    "colab_type": "text",
    "id": "l_mL6wfrC52J"
   },
   "source": [
    "## 讀入 Pre-trained Model"
   ]
  },
  {
   "cell_type": "code",
   "execution_count": 14,
   "metadata": {},
   "outputs": [],
   "source": [
    "from tensorflow.keras.applications.xception import (Xception, preprocess_input)"
   ]
  },
  {
   "cell_type": "code",
   "execution_count": 15,
   "metadata": {
    "colab": {
     "base_uri": "https://localhost:8080/",
     "height": 620
    },
    "colab_type": "code",
    "executionInfo": {
     "elapsed": 5152,
     "status": "ok",
     "timestamp": 1563005580377,
     "user": {
      "displayName": "kinna kinna",
      "photoUrl": "",
      "userId": "09336290170720198249"
     },
     "user_tz": -480
    },
    "id": "Y3aJkkKcC52L",
    "outputId": "dfb1e4dc-8aea-404a-85e5-b6a59ea3f0bb"
   },
   "outputs": [],
   "source": [
    "pre_model = Xception(weights=None, include_top=False,\n",
    "                     input_shape=(img_size, img_size, 3))\n",
    "\n",
    "x = GlobalAveragePooling2D()(pre_model.output)\n",
    "# x = Dense(128, activation='relu')(x)\n",
    "# x = Dropout(0.25)(x)\n",
    "outputs = Dense(1, activation='linear')(x)\n",
    "\n",
    "\n",
    "model = Model(inputs=pre_model.inputs, outputs=outputs)"
   ]
  },
  {
   "cell_type": "code",
   "execution_count": 16,
   "metadata": {},
   "outputs": [],
   "source": [
    "# model.summary()"
   ]
  },
  {
   "cell_type": "markdown",
   "metadata": {},
   "source": [
    "# 決定 Pre-Train 參數量"
   ]
  },
  {
   "cell_type": "code",
   "execution_count": 17,
   "metadata": {},
   "outputs": [],
   "source": [
    "pre_model.trainable = True\n",
    "\n",
    "# trainable_layer = 10\n",
    "# for layer in pre_model.layers[:-trainable_layer]:\n",
    "#     layer.trainable = False\n",
    "\n",
    "# for layer in model.layers:\n",
    "#     print(layer, layer.trainable)\n",
    "\n",
    "# model.summary()"
   ]
  },
  {
   "cell_type": "code",
   "execution_count": 18,
   "metadata": {
    "colab": {
     "base_uri": "https://localhost:8080/",
     "height": 71
    },
    "colab_type": "code",
    "executionInfo": {
     "elapsed": 641,
     "status": "ok",
     "timestamp": 1563005718020,
     "user": {
      "displayName": "kinna kinna",
      "photoUrl": "",
      "userId": "09336290170720198249"
     },
     "user_tz": -480
    },
    "id": "dtPtV8bwSMO7",
    "outputId": "714004b6-a2c2-4b7f-b0de-6f0b06728b03"
   },
   "outputs": [],
   "source": [
    "learning_rate = 1e-5\n",
    "optimizer = keras.optimizers.Adam(learning_rate=learning_rate)\n",
    "\n",
    "model.compile(loss='mse',\n",
    "              optimizer=optimizer,\n",
    "              metrics=['accuracy'])"
   ]
  },
  {
   "cell_type": "markdown",
   "metadata": {
    "colab_type": "text",
    "id": "Ldw-zoshjx38"
   },
   "source": [
    "# Data Augmentation"
   ]
  },
  {
   "cell_type": "code",
   "execution_count": 19,
   "metadata": {
    "cellView": "both",
    "colab": {},
    "colab_type": "code",
    "id": "lJVCV4ApSEmI"
   },
   "outputs": [],
   "source": [
    "batch_size = 64\n",
    "num_steps = len(train_list) // batch_size + 1\n",
    "num_epochs = 40"
   ]
  },
  {
   "cell_type": "code",
   "execution_count": 20,
   "metadata": {},
   "outputs": [],
   "source": [
    "train_datagen = ImageDataGenerator(\n",
    "                                   rotation_range=10,\n",
    "                                   width_shift_range=0.2,\n",
    "                                   height_shift_range=0.2,\n",
    "                                   horizontal_flip=False,\n",
    "                                   zoom_range = [1.2,1.2],\n",
    "                                   fill_mode='nearest',\n",
    "                                   preprocessing_function=preprocess_input\n",
    "                                  )\n",
    "test_datagen = ImageDataGenerator(preprocessing_function=preprocess_input)\n",
    "data_test_datagen = ImageDataGenerator(preprocessing_function=preprocess_input)"
   ]
  },
  {
   "cell_type": "code",
   "execution_count": 21,
   "metadata": {},
   "outputs": [
    {
     "name": "stdout",
     "output_type": "stream",
     "text": [
      "Found 29347 validated image filenames belonging to 8 classes.\n",
      "Found 3261 validated image filenames belonging to 8 classes.\n"
     ]
    }
   ],
   "source": [
    "img_shape = (img_size, img_size)\n",
    "# train data 讀取\n",
    "train_generator = train_datagen.flow_from_dataframe(\n",
    "                                                    dataframe=train_list,\n",
    "                                                    directory=train_path,\n",
    "                                                    x_col=\"img_path\",\n",
    "                                                    y_col=\"label\",\n",
    "                                                    target_size=img_shape,\n",
    "                                                    batch_size=batch_size,\n",
    "                                                    class_mode='sparse')\n",
    "\n",
    "# valid_generator = valid_datagen.flow_from_dataframe(\n",
    "#                                                     dataframe=val_list,\n",
    "#                                                     directory=None,\n",
    "#                                                     x_col=\"img_path\",\n",
    "#                                                     y_col=\"ll\",\n",
    "#                                                     target_size=img_shape,\n",
    "#                                                     batch_size=batch_size,\n",
    "#                                                     class_mode='categorical',\n",
    "#                                                     shuffle=False)\n",
    "\n",
    "\n",
    "test_generator = test_datagen.flow_from_dataframe(\n",
    "                                                    dataframe=test_list,\n",
    "                                                    directory=train_path,\n",
    "                                                    x_col=\"img_path\",\n",
    "                                                    y_col=\"label\",\n",
    "                                                    target_size=img_shape,\n",
    "                                                    batch_size=batch_size,\n",
    "                                                    class_mode='sparse',\n",
    "                                                    shuffle=False)\n",
    "# 用在不知道 label 的資料讀取上(自己手寫資料)\n",
    "# data_test_generator = data_test_datagen.flow_from_dataframe(\n",
    "#                                                     dataframe=data_test,\n",
    "#                                                     directory=test_path,\n",
    "#                                                     x_col=\"img_path\",\n",
    "#                                                     target_size=img_shape,\n",
    "#                                                     batch_size=batch_size,\n",
    "#                                                     class_mode=None,\n",
    "#                                                     shuffle=False)\n"
   ]
  },
  {
   "cell_type": "code",
   "execution_count": 22,
   "metadata": {},
   "outputs": [
    {
     "data": {
      "text/html": [
       "<div>\n",
       "<style scoped>\n",
       "    .dataframe tbody tr th:only-of-type {\n",
       "        vertical-align: middle;\n",
       "    }\n",
       "\n",
       "    .dataframe tbody tr th {\n",
       "        vertical-align: top;\n",
       "    }\n",
       "\n",
       "    .dataframe thead th {\n",
       "        text-align: right;\n",
       "    }\n",
       "</style>\n",
       "<table border=\"1\" class=\"dataframe\">\n",
       "  <thead>\n",
       "    <tr style=\"text-align: right;\">\n",
       "      <th></th>\n",
       "      <th>img_path</th>\n",
       "      <th>label</th>\n",
       "    </tr>\n",
       "  </thead>\n",
       "  <tbody>\n",
       "    <tr>\n",
       "      <th>18437</th>\n",
       "      <td>5\\img4_2974.png</td>\n",
       "      <td>5</td>\n",
       "    </tr>\n",
       "    <tr>\n",
       "      <th>18712</th>\n",
       "      <td>5\\img4_3220.png</td>\n",
       "      <td>5</td>\n",
       "    </tr>\n",
       "    <tr>\n",
       "      <th>11588</th>\n",
       "      <td>3\\img2_431.png</td>\n",
       "      <td>3</td>\n",
       "    </tr>\n",
       "    <tr>\n",
       "      <th>17626</th>\n",
       "      <td>5\\img4_2241.png</td>\n",
       "      <td>5</td>\n",
       "    </tr>\n",
       "    <tr>\n",
       "      <th>2428</th>\n",
       "      <td>1\\img0_321.png</td>\n",
       "      <td>1</td>\n",
       "    </tr>\n",
       "    <tr>\n",
       "      <th>...</th>\n",
       "      <td>...</td>\n",
       "      <td>...</td>\n",
       "    </tr>\n",
       "    <tr>\n",
       "      <th>8232</th>\n",
       "      <td>3\\img2_1074.png</td>\n",
       "      <td>3</td>\n",
       "    </tr>\n",
       "    <tr>\n",
       "      <th>10431</th>\n",
       "      <td>3\\img2_3072.png</td>\n",
       "      <td>3</td>\n",
       "    </tr>\n",
       "    <tr>\n",
       "      <th>2534</th>\n",
       "      <td>1\\img0_3306.png</td>\n",
       "      <td>1</td>\n",
       "    </tr>\n",
       "    <tr>\n",
       "      <th>7643</th>\n",
       "      <td>2\\img1_543.png</td>\n",
       "      <td>2</td>\n",
       "    </tr>\n",
       "    <tr>\n",
       "      <th>26069</th>\n",
       "      <td>7\\img6_248.png</td>\n",
       "      <td>7</td>\n",
       "    </tr>\n",
       "  </tbody>\n",
       "</table>\n",
       "<p>29347 rows × 2 columns</p>\n",
       "</div>"
      ],
      "text/plain": [
       "              img_path label\n",
       "18437  5\\img4_2974.png     5\n",
       "18712  5\\img4_3220.png     5\n",
       "11588   3\\img2_431.png     3\n",
       "17626  5\\img4_2241.png     5\n",
       "2428    1\\img0_321.png     1\n",
       "...                ...   ...\n",
       "8232   3\\img2_1074.png     3\n",
       "10431  3\\img2_3072.png     3\n",
       "2534   1\\img0_3306.png     1\n",
       "7643    2\\img1_543.png     2\n",
       "26069   7\\img6_248.png     7\n",
       "\n",
       "[29347 rows x 2 columns]"
      ]
     },
     "execution_count": 22,
     "metadata": {},
     "output_type": "execute_result"
    }
   ],
   "source": [
    "train_list"
   ]
  },
  {
   "cell_type": "code",
   "execution_count": 23,
   "metadata": {},
   "outputs": [
    {
     "name": "stdout",
     "output_type": "stream",
     "text": [
      "[0. 7. 4. 4. 5. 4. 4. 5. 4. 5. 2. 0. 0. 4. 6. 3. 6. 0. 4. 3. 7. 1. 6. 5.\n",
      " 0. 5. 0. 3. 0. 5. 1. 3. 1. 4. 5. 1. 4. 7. 3. 7. 1. 6. 5. 6. 1. 2. 0. 1.\n",
      " 3. 4. 7. 1. 5. 4. 7. 7. 5. 5. 1. 0. 1. 4. 0. 6.]\n"
     ]
    }
   ],
   "source": [
    "for i in train_generator:\n",
    "    print(i[1])\n",
    "    break"
   ]
  },
  {
   "cell_type": "code",
   "execution_count": 24,
   "metadata": {},
   "outputs": [
    {
     "name": "stdout",
     "output_type": "stream",
     "text": [
      "[3. 5. 4. 0. 6. 1. 6. 4. 4. 4. 0. 4. 5. 4. 0. 0. 4. 3. 2. 7. 1. 3. 0. 0.\n",
      " 5. 4. 5. 4. 1. 2. 2. 3. 0. 3. 0. 4. 6. 3. 1. 0. 3. 0. 3. 5. 0. 3. 4. 1.\n",
      " 4. 1. 1. 3. 1. 3. 7. 1. 3. 4. 1. 3. 0. 7. 2. 5.]\n"
     ]
    }
   ],
   "source": [
    "for i in test_generator:\n",
    "    print(i[1])\n",
    "    break"
   ]
  },
  {
   "cell_type": "markdown",
   "metadata": {
    "colab_type": "text",
    "id": "w3ZbQfBhkKQ_"
   },
   "source": [
    "## 開始訓練模型"
   ]
  },
  {
   "cell_type": "code",
   "execution_count": 25,
   "metadata": {},
   "outputs": [],
   "source": [
    "model_dir = 'model-logs/xception_0616'\n",
    "if not os.path.exists(model_dir):\n",
    "    os.makedirs(model_dir)\n",
    "\n",
    "logfiles = model_dir + '/{}-{}'.format('basic_model',\n",
    "                                       model.__class__.__name__)\n",
    "model_cbk = keras.callbacks.TensorBoard(log_dir=logfiles,\n",
    "                                        histogram_freq=1)\n",
    "\n",
    "modelfiles = model_dir + '/{}-best-model.h5'.format('basic_model')\n",
    "model_mckp = keras.callbacks.ModelCheckpoint(modelfiles,\n",
    "                                             monitor='accuracy',\n",
    "                                             save_best_only=True)\n",
    "\n",
    "earlystop = keras.callbacks.EarlyStopping(monitor='val_loss',\n",
    "                                          patience=5,\n",
    "                                          verbose=1)\n",
    "\n",
    "\n",
    "callbacks_list = [model_cbk, model_mckp, earlystop]"
   ]
  },
  {
   "cell_type": "code",
   "execution_count": 27,
   "metadata": {
    "colab": {
     "base_uri": "https://localhost:8080/",
     "height": 652
    },
    "colab_type": "code",
    "executionInfo": {
     "elapsed": 541352,
     "status": "ok",
     "timestamp": 1563006265676,
     "user": {
      "displayName": "kinna kinna",
      "photoUrl": "",
      "userId": "09336290170720198249"
     },
     "user_tz": -480
    },
    "id": "dQ8rNZ9Cd7Ba",
    "outputId": "d5a95f17-fb07-4b19-f8ef-55fdfea5c20f",
    "scrolled": false
   },
   "outputs": [
    {
     "name": "stdout",
     "output_type": "stream",
     "text": [
      "Epoch 1/40\n",
      "459/459 [==============================] - 88s 191ms/step - loss: 1.1716 - accuracy: 0.1545 41s - lo - ETA: 36s - loss: 1.2462 - accuracy: 0. - ETA: 35s - loss: 1.2438 - accuracy: 0. - ETA: 34s - loss: 1.2408 - a - E\n",
      "WARNING:tensorflow:Early stopping conditioned on metric `val_loss` which is not available. Available metrics are: loss,accuracy\n",
      "Epoch 2/40\n",
      "459/459 [==============================] - 89s 193ms/step - loss: 0.9133 - accuracy: 0.1556 37s - loss: 0.9 - ETA: 3 - ETA: 26s - loss: 0.9431 - accuracy: 0.1 - ETA: 26s - loss: 0.9434 - ETA: 22s - loss: 0.9365 - accura - ETA: 20s - loss: \n",
      "WARNING:tensorflow:Early stopping conditioned on metric `val_loss` which is not available. Available metrics are: loss,accuracy\n",
      "Epoch 3/40\n",
      "459/459 [==============================] - 89s 193ms/step - loss: 0.7688 - accuracy: 0.1541s - l\n",
      "WARNING:tensorflow:Early stopping conditioned on metric `val_loss` which is not available. Available metrics are: loss,accuracy\n",
      "Epoch 4/40\n",
      "459/459 [==============================] - 89s 193ms/step - loss: 0.6676 - accuracy: 0.1602 1:09 - loss: 0 - ETA: 1:06 - loss: 0.7029 - accuracy - ET - ETA: 55s - loss:\n",
      "WARNING:tensorflow:Early stopping conditioned on metric `val_loss` which is not available. Available metrics are: loss,accuracy\n",
      "Epoch 5/40\n",
      "459/459 [==============================] - 89s 193ms/step - loss: 0.6065 - accuracy: 0.1625\n",
      "WARNING:tensorflow:Early stopping conditioned on metric `val_loss` which is not available. Available metrics are: loss,accuracy\n",
      "Epoch 6/40\n",
      "459/459 [==============================] - 89s 193ms/step - loss: 0.5413 - accuracy: 0.1657: 15s - loss: 0.54 - ETA: 11s -  - ETA: 7s - loss: 0.5416 - accuracy:  - - ETA: 3s\n",
      "WARNING:tensorflow:Early stopping conditioned on metric `val_loss` which is not available. Available metrics are: loss,accuracy\n",
      "Epoch 7/40\n",
      "459/459 [==============================] - 88s 192ms/step - loss: 0.4844 - accuracy: 0.1661 0s - loss: 0.4850 - accuracy: \n",
      "WARNING:tensorflow:Early stopping conditioned on metric `val_loss` which is not available. Available metrics are: loss,accuracy\n",
      "Epoch 8/40\n",
      "459/459 [==============================] - 88s 192ms/step - loss: 0.4373 - accuracy: 0.1729\n",
      "WARNING:tensorflow:Early stopping conditioned on metric `val_loss` which is not available. Available metrics are: loss,accuracy\n",
      "Epoch 9/40\n",
      "459/459 [==============================] - 89s 194ms/step - loss: 0.3972 - accuracy: 0.1789\n",
      "WARNING:tensorflow:Early stopping conditioned on metric `val_loss` which is not available. Available metrics are: loss,accuracy\n",
      "Epoch 10/40\n",
      "459/459 [==============================] - 90s 196ms/step - loss: 0.3486 - accuracy: 0.1878\n",
      "WARNING:tensorflow:Early stopping conditioned on metric `val_loss` which is not available. Available metrics are: loss,accuracy\n",
      "Epoch 11/40\n",
      "459/459 [==============================] - 90s 195ms/step - loss: 0.3149 - accuracy: 0.2001\n",
      "WARNING:tensorflow:Early stopping conditioned on metric `val_loss` which is not available. Available metrics are: loss,accuracy\n",
      "Epoch 12/40\n",
      "459/459 [==============================] - 89s 194ms/step - loss: 0.2823 - accuracy: 0.2063\n",
      "WARNING:tensorflow:Early stopping conditioned on metric `val_loss` which is not available. Available metrics are: loss,accuracy\n",
      "Epoch 13/40\n",
      "459/459 [==============================] - 89s 193ms/step - loss: 0.2570 - accuracy: 0.2109\n",
      "WARNING:tensorflow:Early stopping conditioned on metric `val_loss` which is not available. Available metrics are: loss,accuracy\n",
      "Epoch 14/40\n",
      "459/459 [==============================] - 89s 193ms/step - loss: 0.2357 - accuracy: 0.2134\n",
      "WARNING:tensorflow:Early stopping conditioned on metric `val_loss` which is not available. Available metrics are: loss,accuracy\n",
      "Epoch 15/40\n",
      "459/459 [==============================] - 90s 195ms/step - loss: 0.2210 - accuracy: 0.2166 55s - loss: 0 - ETA: 50s - loss: 0.2 - ETA: 45s - loss: - ETA: 3s\n",
      "WARNING:tensorflow:Early stopping conditioned on metric `val_loss` which is not available. Available metrics are: loss,accuracy\n",
      "Epoch 16/40\n",
      "459/459 [==============================] - 89s 193ms/step - loss: 0.2021 - accuracy: 0.2189A: 1:02 - loss: 0.2 - ETA: 1:00 - loss: 0.2251 - acc - ETA: 58s - loss: 0.2208 - accuracy: 0.22 -\n",
      "WARNING:tensorflow:Early stopping conditioned on metric `val_loss` which is not available. Available metrics are: loss,accuracy\n",
      "Epoch 17/40\n",
      "459/459 [==============================] - 90s 196ms/step - loss: 0.1963 - accuracy: 0.2209 15s - loss: 0.1924 - accuracy: 0.21 -  - ETA: 4s - loss: 0.1966 - accuracy: 0.22 -\n",
      "WARNING:tensorflow:Early stopping conditioned on metric `val_loss` which is not available. Available metrics are: loss,accuracy\n",
      "Epoch 18/40\n",
      "459/459 [==============================] - 90s 195ms/step - loss: 0.1798 - accuracy: 0.2229s - loss: 0.183 - ETA\n",
      "WARNING:tensorflow:Early stopping conditioned on metric `val_loss` which is not available. Available metrics are: loss,accuracy\n",
      "Epoch 19/40\n",
      "459/459 [==============================] - 90s 195ms/step - loss: 0.1657 - accuracy: 0.2247 18s - lo - ETA: 12s - loss: 0.1626 - - ETA: 9s - l - ETA: 2s - los\n",
      "WARNING:tensorflow:Early stopping conditioned on metric `val_loss` which is not available. Available metrics are: loss,accuracy\n",
      "Epoch 20/40\n",
      "459/459 [==============================] - 90s 195ms/step - loss: 0.1589 - accuracy: 0.2257\n",
      "WARNING:tensorflow:Early stopping conditioned on metric `val_loss` which is not available. Available metrics are: loss,accuracy\n",
      "Epoch 21/40\n",
      "459/459 [==============================] - 90s 196ms/step - loss: 0.1501 - accuracy: 0.2270 13\n",
      "WARNING:tensorflow:Early stopping conditioned on metric `val_loss` which is not available. Available metrics are: loss,accuracy\n",
      "Epoch 22/40\n",
      "459/459 [==============================] - 90s 195ms/step - loss: 0.1503 - accuracy: 0.2279 13s - loss: 0.1517 - accura - ETA: 11s - loss: 0.15\n",
      "WARNING:tensorflow:Early stopping conditioned on metric `val_loss` which is not available. Available metrics are: loss,accuracy\n",
      "Epoch 23/40\n",
      "459/459 [==============================] - 90s 195ms/step - loss: 0.1378 - accuracy: 0.2291s - loss: 0.1378 - accuracy: 0.22\n",
      "WARNING:tensorflow:Early stopping conditioned on metric `val_loss` which is not available. Available metrics are: loss,accuracy\n",
      "Epoch 24/40\n",
      "459/459 [==============================] - 90s 195ms/step - loss: 0.1344 - accuracy: 0.2298  - ETA: 1 - ETA: 1s - loss: 0.134\n",
      "WARNING:tensorflow:Early stopping conditioned on metric `val_loss` which is not available. Available metrics are: loss,accuracy\n",
      "Epoch 25/40\n",
      "459/459 [==============================] - 90s 195ms/step - loss: 0.1237 - accuracy: 0.2309s - loss: 0.1239 - accuracy: 0.\n",
      "WARNING:tensorflow:Early stopping conditioned on metric `val_loss` which is not available. Available metrics are: loss,accuracy\n",
      "Epoch 26/40\n",
      "459/459 [==============================] - 90s 195ms/step - loss: 0.1214 - accuracy: 0.2313 47s - loss: 0\n",
      "WARNING:tensorflow:Early stopping conditioned on metric `val_loss` which is not available. Available metrics are: loss,accuracy\n",
      "Epoch 27/40\n",
      "459/459 [==============================] - 90s 195ms/step - loss: 0.1166 - accuracy: 0.2321\n",
      "WARNING:tensorflow:Early stopping conditioned on metric `val_loss` which is not available. Available metrics are: loss,accuracy\n",
      "Epoch 28/40\n",
      "459/459 [==============================] - 89s 194ms/step - loss: 0.1135 - accuracy: 0.2331 53s - loss: 0.1217 -  -\n",
      "WARNING:tensorflow:Early stopping conditioned on metric `val_loss` which is not available. Available metrics are: loss,accuracy\n",
      "Epoch 29/40\n",
      "459/459 [==============================] - 90s 195ms/step - loss: 0.1116 - accuracy: 0.2331\n",
      "WARNING:tensorflow:Early stopping conditioned on metric `val_loss` which is not available. Available metrics are: loss,accuracy\n",
      "Epoch 30/40\n",
      "459/459 [==============================] - 90s 195ms/step - loss: 0.1022 - accuracy: 0.2348\n",
      "WARNING:tensorflow:Early stopping conditioned on metric `val_loss` which is not available. Available metrics are: loss,accuracy\n",
      "Epoch 31/40\n",
      "459/459 [==============================] - 90s 195ms/step - loss: 0.0914 - accuracy: 0.2363\n",
      "WARNING:tensorflow:Early stopping conditioned on metric `val_loss` which is not available. Available metrics are: loss,accuracy\n",
      "Epoch 32/40\n"
     ]
    },
    {
     "name": "stdout",
     "output_type": "stream",
     "text": [
      "459/459 [==============================] - 90s 195ms/step - loss: 0.0922 - accuracy: 0.2350s - loss: 0.0929 - accu - ETA: 3s - loss: 0.0 - ETA: 1s - loss: 0.092\n",
      "WARNING:tensorflow:Early stopping conditioned on metric `val_loss` which is not available. Available metrics are: loss,accuracy\n",
      "Epoch 33/40\n",
      "459/459 [==============================] - 90s 195ms/step - loss: 0.0963 - accuracy: 0.2355\n",
      "WARNING:tensorflow:Early stopping conditioned on metric `val_loss` which is not available. Available metrics are: loss,accuracy\n",
      "Epoch 34/40\n",
      "459/459 [==============================] - 90s 195ms/step - loss: 0.0944 - accuracy: 0.2365\n",
      "WARNING:tensorflow:Early stopping conditioned on metric `val_loss` which is not available. Available metrics are: loss,accuracy\n",
      "Epoch 35/40\n",
      "459/459 [==============================] - 90s 195ms/step - loss: 0.0905 - accuracy: 0.2357s - loss: 0.090\n",
      "WARNING:tensorflow:Early stopping conditioned on metric `val_loss` which is not available. Available metrics are: loss,accuracy\n",
      "Epoch 36/40\n",
      "459/459 [==============================] - 90s 195ms/step - loss: 0.0875 - accuracy: 0.2364\n",
      "WARNING:tensorflow:Early stopping conditioned on metric `val_loss` which is not available. Available metrics are: loss,accuracy\n",
      "Epoch 37/40\n",
      "459/459 [==============================] - 89s 195ms/step - loss: 0.0754 - accuracy: 0.2378 34s - loss: 0.0803 - accuracy: 0.\n",
      "WARNING:tensorflow:Early stopping conditioned on metric `val_loss` which is not available. Available metrics are: loss,accuracy\n",
      "Epoch 38/40\n",
      "459/459 [==============================] - 89s 194ms/step - loss: 0.0840 - accuracy: 0.2374\n",
      "WARNING:tensorflow:Early stopping conditioned on metric `val_loss` which is not available. Available metrics are: loss,accuracy\n",
      "Epoch 39/40\n",
      "459/459 [==============================] - 89s 194ms/step - loss: 0.0761 - accuracy: 0.2383\n",
      "WARNING:tensorflow:Early stopping conditioned on metric `val_loss` which is not available. Available metrics are: loss,accuracy\n",
      "Epoch 40/40\n",
      "459/459 [==============================] - 89s 194ms/step - loss: 0.0717 - accuracy: 0.2383s - - ETA: 0s - loss: 0.0715 - accuracy: 0.23 - ETA: 0s - loss: 0.0717 - accuracy: 0.23\n",
      "WARNING:tensorflow:Early stopping conditioned on metric `val_loss` which is not available. Available metrics are: loss,accuracy\n"
     ]
    }
   ],
   "source": [
    "history = model.fit_generator(train_generator,\n",
    "                              steps_per_epoch=num_steps,\n",
    "                              epochs=num_epochs,\n",
    "                              #validation_data=test_generator,\n",
    "                              callbacks=callbacks_list)"
   ]
  },
  {
   "cell_type": "markdown",
   "metadata": {
    "colab_type": "text",
    "id": "nZBlMAU7kEwK"
   },
   "source": [
    "## 訓練結果視覺化"
   ]
  },
  {
   "cell_type": "code",
   "execution_count": 28,
   "metadata": {},
   "outputs": [],
   "source": [
    "model_resnet = load_model('d:/python/model-logs/xception_0616/basic_model-best-model.h5')\n",
    "\n"
   ]
  },
  {
   "cell_type": "code",
   "execution_count": 29,
   "metadata": {},
   "outputs": [],
   "source": [
    "test_path = \"d:/test/\" #讀入測試資料\n",
    "\n",
    "x_data_test = []\n",
    "y_data_test = []\n",
    "for roots, dirs, files in os.walk(test_path):\n",
    "    for each in files:\n",
    "        if each.find('checkpoint') == -1:\n",
    "            x_data_test.append(os.path.join(roots.split(\"/\")[-1], each))\n",
    "            y_data_test.append(roots.split(\"/\")[-1])"
   ]
  },
  {
   "cell_type": "code",
   "execution_count": 30,
   "metadata": {},
   "outputs": [
    {
     "name": "stderr",
     "output_type": "stream",
     "text": [
      "C:\\ProgramData\\Anaconda3\\envs\\tf_night\\lib\\site-packages\\ipykernel_launcher.py:4: FutureWarning: The default value of regex will change from True to False in a future version.\n",
      "  after removing the cwd from sys.path.\n"
     ]
    }
   ],
   "source": [
    "data_test = pd.DataFrame({})\n",
    "data_test['img_path'] = x_data_test\n",
    "data_test['label'] = y_data_test\n",
    "data_test['label'] = data_test['img_path'].str.replace('.png', '')"
   ]
  },
  {
   "cell_type": "code",
   "execution_count": 31,
   "metadata": {},
   "outputs": [
    {
     "name": "stdout",
     "output_type": "stream",
     "text": [
      "Found 18 validated image filenames.\n"
     ]
    }
   ],
   "source": [
    "data_test_generator = data_test_datagen.flow_from_dataframe(\n",
    "                                                    dataframe=data_test,\n",
    "                                                    directory=test_path,\n",
    "                                                    x_col=\"img_path\",\n",
    "                                                    target_size=img_shape,\n",
    "                                                    batch_size=batch_size,\n",
    "                                                    class_mode=None,\n",
    "                                                    shuffle=False)\n"
   ]
  },
  {
   "cell_type": "code",
   "execution_count": 32,
   "metadata": {},
   "outputs": [
    {
     "data": {
      "text/html": [
       "<div>\n",
       "<style scoped>\n",
       "    .dataframe tbody tr th:only-of-type {\n",
       "        vertical-align: middle;\n",
       "    }\n",
       "\n",
       "    .dataframe tbody tr th {\n",
       "        vertical-align: top;\n",
       "    }\n",
       "\n",
       "    .dataframe thead th {\n",
       "        text-align: right;\n",
       "    }\n",
       "</style>\n",
       "<table border=\"1\" class=\"dataframe\">\n",
       "  <thead>\n",
       "    <tr style=\"text-align: right;\">\n",
       "      <th></th>\n",
       "      <th>img_path</th>\n",
       "      <th>label</th>\n",
       "    </tr>\n",
       "  </thead>\n",
       "  <tbody>\n",
       "    <tr>\n",
       "      <th>0</th>\n",
       "      <td>人1.png</td>\n",
       "      <td>人1</td>\n",
       "    </tr>\n",
       "    <tr>\n",
       "      <th>1</th>\n",
       "      <td>人2.png</td>\n",
       "      <td>人2</td>\n",
       "    </tr>\n",
       "    <tr>\n",
       "      <th>2</th>\n",
       "      <td>人3.png</td>\n",
       "      <td>人3</td>\n",
       "    </tr>\n",
       "    <tr>\n",
       "      <th>3</th>\n",
       "      <td>學1.png</td>\n",
       "      <td>學1</td>\n",
       "    </tr>\n",
       "    <tr>\n",
       "      <th>4</th>\n",
       "      <td>學2.png</td>\n",
       "      <td>學2</td>\n",
       "    </tr>\n",
       "    <tr>\n",
       "      <th>5</th>\n",
       "      <td>學3.png</td>\n",
       "      <td>學3</td>\n",
       "    </tr>\n",
       "    <tr>\n",
       "      <th>6</th>\n",
       "      <td>工1.png</td>\n",
       "      <td>工1</td>\n",
       "    </tr>\n",
       "    <tr>\n",
       "      <th>7</th>\n",
       "      <td>工2.png</td>\n",
       "      <td>工2</td>\n",
       "    </tr>\n",
       "    <tr>\n",
       "      <th>8</th>\n",
       "      <td>工3.png</td>\n",
       "      <td>工3</td>\n",
       "    </tr>\n",
       "    <tr>\n",
       "      <th>9</th>\n",
       "      <td>慧1.png</td>\n",
       "      <td>慧1</td>\n",
       "    </tr>\n",
       "    <tr>\n",
       "      <th>10</th>\n",
       "      <td>慧2.png</td>\n",
       "      <td>慧2</td>\n",
       "    </tr>\n",
       "    <tr>\n",
       "      <th>11</th>\n",
       "      <td>慧3.png</td>\n",
       "      <td>慧3</td>\n",
       "    </tr>\n",
       "    <tr>\n",
       "      <th>12</th>\n",
       "      <td>智1.png</td>\n",
       "      <td>智1</td>\n",
       "    </tr>\n",
       "    <tr>\n",
       "      <th>13</th>\n",
       "      <td>智2.png</td>\n",
       "      <td>智2</td>\n",
       "    </tr>\n",
       "    <tr>\n",
       "      <th>14</th>\n",
       "      <td>智3.png</td>\n",
       "      <td>智3</td>\n",
       "    </tr>\n",
       "    <tr>\n",
       "      <th>15</th>\n",
       "      <td>校1.png</td>\n",
       "      <td>校1</td>\n",
       "    </tr>\n",
       "    <tr>\n",
       "      <th>16</th>\n",
       "      <td>校2.png</td>\n",
       "      <td>校2</td>\n",
       "    </tr>\n",
       "    <tr>\n",
       "      <th>17</th>\n",
       "      <td>校3.png</td>\n",
       "      <td>校3</td>\n",
       "    </tr>\n",
       "  </tbody>\n",
       "</table>\n",
       "</div>"
      ],
      "text/plain": [
       "   img_path label\n",
       "0    人1.png    人1\n",
       "1    人2.png    人2\n",
       "2    人3.png    人3\n",
       "3    學1.png    學1\n",
       "4    學2.png    學2\n",
       "5    學3.png    學3\n",
       "6    工1.png    工1\n",
       "7    工2.png    工2\n",
       "8    工3.png    工3\n",
       "9    慧1.png    慧1\n",
       "10   慧2.png    慧2\n",
       "11   慧3.png    慧3\n",
       "12   智1.png    智1\n",
       "13   智2.png    智2\n",
       "14   智3.png    智3\n",
       "15   校1.png    校1\n",
       "16   校2.png    校2\n",
       "17   校3.png    校3"
      ]
     },
     "execution_count": 32,
     "metadata": {},
     "output_type": "execute_result"
    }
   ],
   "source": [
    "data_test"
   ]
  },
  {
   "cell_type": "code",
   "execution_count": 33,
   "metadata": {},
   "outputs": [],
   "source": [
    "#class_name = test_generator.class_indices"
   ]
  },
  {
   "cell_type": "code",
   "execution_count": 34,
   "metadata": {},
   "outputs": [],
   "source": [
    "#class_name_remap = dict(zip(class_name.values(), class_name.keys()))"
   ]
  },
  {
   "cell_type": "code",
   "execution_count": 35,
   "metadata": {},
   "outputs": [
    {
     "name": "stderr",
     "output_type": "stream",
     "text": [
      "C:\\ProgramData\\Anaconda3\\envs\\tf_night\\lib\\site-packages\\tensorflow\\python\\keras\\engine\\training.py:2011: UserWarning: `Model.predict_generator` is deprecated and will be removed in a future version. Please use `Model.predict`, which supports generators.\n",
      "  warnings.warn('`Model.predict_generator` is deprecated and '\n"
     ]
    },
    {
     "data": {
      "text/plain": [
       "array([[0.23373039],\n",
       "       [2.1999724 ],\n",
       "       [1.2830508 ],\n",
       "       [1.2575865 ],\n",
       "       [2.0785387 ],\n",
       "       [1.8852414 ],\n",
       "       [4.0488653 ],\n",
       "       [2.0063617 ],\n",
       "       [0.08841573],\n",
       "       [3.1849113 ],\n",
       "       [2.1346738 ],\n",
       "       [1.9487356 ],\n",
       "       [3.774294  ],\n",
       "       [2.0985925 ],\n",
       "       [0.1900224 ],\n",
       "       [4.056319  ],\n",
       "       [2.0704195 ],\n",
       "       [0.80519664]], dtype=float32)"
      ]
     },
     "execution_count": 35,
     "metadata": {},
     "output_type": "execute_result"
    }
   ],
   "source": [
    "y_pred = model_resnet.predict_generator(data_test_generator)\n",
    "#y_pred_final = pd.DataFrame(y_pred.argmax(-1),columns=['label'])\n",
    "#y_pred_final = y_pred_final['label'].map(class_name_remap).map(class_map)\n",
    "#y_pred_final\n",
    "y_pred"
   ]
  },
  {
   "attachments": {
    "image-2.png": {
     "image/png": "[encoded data removed]"
    },
    "image.png": {
     "image/png": "[encoded data removed]"
    }
   },
   "cell_type": "markdown",
   "metadata": {},
   "source": [
    "![image.png](attachment:image.png)\n",
    "![image-2.png](attachment:image-2.png)"
   ]
  },
  {
   "cell_type": "code",
   "execution_count": null,
   "metadata": {},
   "outputs": [],
   "source": []
  }
 ],
 "metadata": {
  "accelerator": "GPU",
  "colab": {
   "collapsed_sections": [],
   "name": "ex3_CNN_transfer_learning.ipynb",
   "provenance": [
    {
     "file_id": "12H2XwTQeBcLbOYWHLw4J_3AObwxIp_nT",
     "timestamp": 1553101208325
    }
   ],
   "version": "0.3.2"
  },
  "kernelspec": {
   "display_name": "tensorflow_night",
   "language": "python",
   "name": "tf_night"
  },
  "language_info": {
   "codemirror_mode": {
    "name": "ipython",
    "version": 3
   },
   "file_extension": ".py",
   "mimetype": "text/x-python",
   "name": "python",
   "nbconvert_exporter": "python",
   "pygments_lexer": "ipython3",
   "version": "3.7.10"
  }
 },
 "nbformat": 4,
 "nbformat_minor": 4
}
